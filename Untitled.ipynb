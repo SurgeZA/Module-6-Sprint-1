{
 "cells": [
  {
   "cell_type": "code",
   "execution_count": 27,
   "metadata": {},
   "outputs": [
    {
     "name": "stdout",
     "output_type": "stream",
     "text": [
      "    Item  Brand\n",
      "0  Chips  Simba\n",
      "1  Chips   Lays\n",
      "        Item  Brand\n",
      "0  Cooldrink   Coke\n",
      "1  Cooldrink  Fanta\n",
      "         Item    Brand\n",
      "0  Chocolates  Cadbury\n",
      "1  Chocolates      Tex\n",
      "   Item       Flavour\n",
      "0  Pies  Pepper Steak\n",
      "1  Pies       Chicken\n",
      "    Item    Type\n",
      "0  Fruit    Pear\n",
      "1  Fruit   Apple\n",
      "2  Fruit  Orange\n",
      "      Item    Flavour\n",
      "0  Cupcake    Vanilla\n",
      "1  Cupcake  Chocolate\n",
      "         Item     Type\n",
      "0   Vegtables  Spinach\n",
      "1  vegatables  Cabbage\n"
     ]
    }
   ],
   "source": [
    "import pandas as pd\n",
    "\n",
    "chips = [['Chips', 'Simba'] , ['Chips', 'Lays']]\n",
    "\n",
    "column = ['Item','Brand']\n",
    "\n",
    "df = pd.DataFrame(chips,columns=column)\n",
    "\n",
    "print (df)\n",
    "\n",
    "cooldrinks = [['Cooldrink' , 'Coke'] , ['Cooldrink' , 'Fanta']]\n",
    "\n",
    "column = ['Item','Brand']\n",
    "\n",
    "df = pd.DataFrame(cooldrinks,columns=column)\n",
    "\n",
    "print (df)\n",
    "\n",
    "chocolates = [['Chocolates' , 'Cadbury'] , ['Chocolates' , 'Tex']]\n",
    "\n",
    "column = ['Item','Brand']\n",
    "\n",
    "df = pd.DataFrame(chocolates,columns=column)\n",
    "\n",
    "print (df)\n",
    "\n",
    "pies = [['Pies', 'Pepper Steak'] , ['Pies', 'Chicken']]\n",
    "\n",
    "column = ['Item','Flavour']\n",
    "\n",
    "df = pd.DataFrame(pies,columns=column)\n",
    "\n",
    "print (df)\n",
    "\n",
    "fruit = [['Fruit', 'Pear'] , ['Fruit' , 'Apple'] , ['Fruit' , 'Orange']]\n",
    "\n",
    "column = ['Item' , 'Type']\n",
    "\n",
    "df = pd.DataFrame(fruit,columns=column)\n",
    "\n",
    "print (df)\n",
    "\n",
    "cupcakes = [['Cupcake', 'Vanilla'] , ['Cupcake' , 'Chocolate']]\n",
    "\n",
    "column = ['Item' , 'Flavour']\n",
    "\n",
    "df = pd.DataFrame(cupcakes,columns=column)\n",
    "\n",
    "print (df)\n",
    "\n",
    "veggies = [['Vegtables', 'Spinach'] , ['vegatables' , 'Cabbage']]\n",
    "\n",
    "column = ['Item' , 'Type']\n",
    "\n",
    "df = pd.DataFrame(veggies,columns=column)\n",
    "\n",
    "print (df)\n"
   ]
  },
  {
   "cell_type": "code",
   "execution_count": null,
   "metadata": {},
   "outputs": [],
   "source": []
  },
  {
   "cell_type": "code",
   "execution_count": null,
   "metadata": {},
   "outputs": [],
   "source": []
  },
  {
   "cell_type": "code",
   "execution_count": null,
   "metadata": {},
   "outputs": [],
   "source": []
  },
  {
   "cell_type": "code",
   "execution_count": null,
   "metadata": {},
   "outputs": [],
   "source": []
  }
 ],
 "metadata": {
  "kernelspec": {
   "display_name": "Python 3",
   "language": "python",
   "name": "python3"
  },
  "language_info": {
   "codemirror_mode": {
    "name": "ipython",
    "version": 3
   },
   "file_extension": ".py",
   "mimetype": "text/x-python",
   "name": "python",
   "nbconvert_exporter": "python",
   "pygments_lexer": "ipython3",
   "version": "3.7.6"
  }
 },
 "nbformat": 4,
 "nbformat_minor": 4
}
